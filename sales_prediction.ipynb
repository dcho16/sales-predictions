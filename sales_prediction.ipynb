{
  "nbformat": 4,
  "nbformat_minor": 0,
  "metadata": {
    "colab": {
      "name": "sales_prediction.ipynb",
      "provenance": [],
      "collapsed_sections": []
    },
    "kernelspec": {
      "name": "python3",
      "display_name": "Python 3"
    },
    "language_info": {
      "name": "python"
    }
  },
  "cells": [
    {
      "cell_type": "code",
      "metadata": {
        "colab": {
          "base_uri": "https://localhost:8080/"
        },
        "id": "Cj4rKek_-sHi",
        "outputId": "745d3442-7eca-4029-85ba-ffa1890ef809"
      },
      "source": [
        "from google.colab import drive\n",
        "drive.mount('/content/drive')"
      ],
      "execution_count": null,
      "outputs": [
        {
          "output_type": "stream",
          "text": [
            "Drive already mounted at /content/drive; to attempt to forcibly remount, call drive.mount(\"/content/drive\", force_remount=True).\n"
          ],
          "name": "stdout"
        }
      ]
    },
    {
      "cell_type": "code",
      "metadata": {
        "id": "4FE8Larj5Zrs"
      },
      "source": [
        "# Imports\n",
        "import pandas as pd\n",
        "import matplotlib.pyplot as plt\n",
        "import numpy as np\n",
        "from sklearn.preprocessing import StandardScaler\n",
        "from sklearn.neighbors import KNeighborsRegressor\n",
        "from sklearn.linear_model import LinearRegression\n",
        "from sklearn.model_selection import train_test_split\n",
        "from sklearn.ensemble import BaggingRegressor, RandomForestRegressor"
      ],
      "execution_count": null,
      "outputs": []
    },
    {
      "cell_type": "code",
      "metadata": {
        "colab": {
          "base_uri": "https://localhost:8080/",
          "height": 197
        },
        "id": "oPU9LMub6v57",
        "outputId": "77a89fe1-80b8-41e1-c292-1b63b7c9a08d"
      },
      "source": [
        "# Load data\n",
        "df = pd.read_csv('/content/drive/MyDrive/Colab Notebooks/Coding Dojo/Project/sales_predictions.csv')\n",
        "df.head()"
      ],
      "execution_count": null,
      "outputs": [
        {
          "output_type": "execute_result",
          "data": {
            "text/html": [
              "<div>\n",
              "<style scoped>\n",
              "    .dataframe tbody tr th:only-of-type {\n",
              "        vertical-align: middle;\n",
              "    }\n",
              "\n",
              "    .dataframe tbody tr th {\n",
              "        vertical-align: top;\n",
              "    }\n",
              "\n",
              "    .dataframe thead th {\n",
              "        text-align: right;\n",
              "    }\n",
              "</style>\n",
              "<table border=\"1\" class=\"dataframe\">\n",
              "  <thead>\n",
              "    <tr style=\"text-align: right;\">\n",
              "      <th></th>\n",
              "      <th>Item_Identifier</th>\n",
              "      <th>Item_Weight</th>\n",
              "      <th>Item_Fat_Content</th>\n",
              "      <th>Item_Visibility</th>\n",
              "      <th>Item_Type</th>\n",
              "      <th>Item_MRP</th>\n",
              "      <th>Outlet_Identifier</th>\n",
              "      <th>Outlet_Establishment_Year</th>\n",
              "      <th>Outlet_Size</th>\n",
              "      <th>Outlet_Location_Type</th>\n",
              "      <th>Outlet_Type</th>\n",
              "      <th>Item_Outlet_Sales</th>\n",
              "    </tr>\n",
              "  </thead>\n",
              "  <tbody>\n",
              "    <tr>\n",
              "      <th>0</th>\n",
              "      <td>FDA15</td>\n",
              "      <td>9.30</td>\n",
              "      <td>Low Fat</td>\n",
              "      <td>0.016047</td>\n",
              "      <td>Dairy</td>\n",
              "      <td>249.8092</td>\n",
              "      <td>OUT049</td>\n",
              "      <td>1999</td>\n",
              "      <td>Medium</td>\n",
              "      <td>Tier 1</td>\n",
              "      <td>Supermarket Type1</td>\n",
              "      <td>3735.1380</td>\n",
              "    </tr>\n",
              "    <tr>\n",
              "      <th>1</th>\n",
              "      <td>DRC01</td>\n",
              "      <td>5.92</td>\n",
              "      <td>Regular</td>\n",
              "      <td>0.019278</td>\n",
              "      <td>Soft Drinks</td>\n",
              "      <td>48.2692</td>\n",
              "      <td>OUT018</td>\n",
              "      <td>2009</td>\n",
              "      <td>Medium</td>\n",
              "      <td>Tier 3</td>\n",
              "      <td>Supermarket Type2</td>\n",
              "      <td>443.4228</td>\n",
              "    </tr>\n",
              "    <tr>\n",
              "      <th>2</th>\n",
              "      <td>FDN15</td>\n",
              "      <td>17.50</td>\n",
              "      <td>Low Fat</td>\n",
              "      <td>0.016760</td>\n",
              "      <td>Meat</td>\n",
              "      <td>141.6180</td>\n",
              "      <td>OUT049</td>\n",
              "      <td>1999</td>\n",
              "      <td>Medium</td>\n",
              "      <td>Tier 1</td>\n",
              "      <td>Supermarket Type1</td>\n",
              "      <td>2097.2700</td>\n",
              "    </tr>\n",
              "    <tr>\n",
              "      <th>3</th>\n",
              "      <td>FDX07</td>\n",
              "      <td>19.20</td>\n",
              "      <td>Regular</td>\n",
              "      <td>0.000000</td>\n",
              "      <td>Fruits and Vegetables</td>\n",
              "      <td>182.0950</td>\n",
              "      <td>OUT010</td>\n",
              "      <td>1998</td>\n",
              "      <td>NaN</td>\n",
              "      <td>Tier 3</td>\n",
              "      <td>Grocery Store</td>\n",
              "      <td>732.3800</td>\n",
              "    </tr>\n",
              "    <tr>\n",
              "      <th>4</th>\n",
              "      <td>NCD19</td>\n",
              "      <td>8.93</td>\n",
              "      <td>Low Fat</td>\n",
              "      <td>0.000000</td>\n",
              "      <td>Household</td>\n",
              "      <td>53.8614</td>\n",
              "      <td>OUT013</td>\n",
              "      <td>1987</td>\n",
              "      <td>High</td>\n",
              "      <td>Tier 3</td>\n",
              "      <td>Supermarket Type1</td>\n",
              "      <td>994.7052</td>\n",
              "    </tr>\n",
              "  </tbody>\n",
              "</table>\n",
              "</div>"
            ],
            "text/plain": [
              "  Item_Identifier  Item_Weight  ...        Outlet_Type  Item_Outlet_Sales\n",
              "0           FDA15         9.30  ...  Supermarket Type1          3735.1380\n",
              "1           DRC01         5.92  ...  Supermarket Type2           443.4228\n",
              "2           FDN15        17.50  ...  Supermarket Type1          2097.2700\n",
              "3           FDX07        19.20  ...      Grocery Store           732.3800\n",
              "4           NCD19         8.93  ...  Supermarket Type1           994.7052\n",
              "\n",
              "[5 rows x 12 columns]"
            ]
          },
          "metadata": {
            "tags": []
          },
          "execution_count": 4
        }
      ]
    },
    {
      "cell_type": "markdown",
      "metadata": {
        "id": "lcqmOJE5onS4"
      },
      "source": [
        "# **Data Cleaning**"
      ]
    },
    {
      "cell_type": "code",
      "metadata": {
        "colab": {
          "base_uri": "https://localhost:8080/"
        },
        "id": "pIpUy6Eh9ibp",
        "outputId": "43b91fb6-4a71-47d6-e668-2b26844ef35e"
      },
      "source": [
        "df.info()"
      ],
      "execution_count": null,
      "outputs": [
        {
          "output_type": "stream",
          "text": [
            "<class 'pandas.core.frame.DataFrame'>\n",
            "RangeIndex: 8523 entries, 0 to 8522\n",
            "Data columns (total 12 columns):\n",
            " #   Column                     Non-Null Count  Dtype  \n",
            "---  ------                     --------------  -----  \n",
            " 0   Item_Identifier            8523 non-null   object \n",
            " 1   Item_Weight                7060 non-null   float64\n",
            " 2   Item_Fat_Content           8523 non-null   object \n",
            " 3   Item_Visibility            8523 non-null   float64\n",
            " 4   Item_Type                  8523 non-null   object \n",
            " 5   Item_MRP                   8523 non-null   float64\n",
            " 6   Outlet_Identifier          8523 non-null   object \n",
            " 7   Outlet_Establishment_Year  8523 non-null   int64  \n",
            " 8   Outlet_Size                6113 non-null   object \n",
            " 9   Outlet_Location_Type       8523 non-null   object \n",
            " 10  Outlet_Type                8523 non-null   object \n",
            " 11  Item_Outlet_Sales          8523 non-null   float64\n",
            "dtypes: float64(4), int64(1), object(7)\n",
            "memory usage: 799.2+ KB\n"
          ],
          "name": "stdout"
        }
      ]
    },
    {
      "cell_type": "code",
      "metadata": {
        "id": "DXH-fawkD0MM"
      },
      "source": [
        "# Set Item_Identifier as the index\n",
        "df = df.set_index('Item_Identifier')"
      ],
      "execution_count": null,
      "outputs": []
    },
    {
      "cell_type": "code",
      "metadata": {
        "id": "GEtnmpoK7Xyf"
      },
      "source": [
        "# Item_Weight and Outlet_Size are both missing data\n",
        "# The data for both Item_weight and Outlet_Size can be dropped.\n",
        "df.drop(columns = 'Item_Weight', inplace = True)\n",
        "df.drop(columns = 'Outlet_Size', inplace = True)"
      ],
      "execution_count": null,
      "outputs": []
    },
    {
      "cell_type": "code",
      "metadata": {
        "colab": {
          "base_uri": "https://localhost:8080/"
        },
        "id": "qFFRu03txmr4",
        "outputId": "1ca7899d-328b-4643-8f51-1eafdb5fd629"
      },
      "source": [
        "# Check for any duplicate rows\n",
        "df.duplicated().any()"
      ],
      "execution_count": null,
      "outputs": [
        {
          "output_type": "execute_result",
          "data": {
            "text/plain": [
              "False"
            ]
          },
          "metadata": {
            "tags": []
          },
          "execution_count": 8
        }
      ]
    },
    {
      "cell_type": "code",
      "metadata": {
        "colab": {
          "base_uri": "https://localhost:8080/"
        },
        "id": "BwnHiOKqyqiy",
        "outputId": "784914ca-975b-4ad6-8820-3b848e6d27d4"
      },
      "source": [
        "# Check for spelling errors or inconsistencies\n",
        "df['Item_Fat_Content'].value_counts()"
      ],
      "execution_count": null,
      "outputs": [
        {
          "output_type": "execute_result",
          "data": {
            "text/plain": [
              "Low Fat    5089\n",
              "Regular    2889\n",
              "LF          316\n",
              "reg         117\n",
              "low fat     112\n",
              "Name: Item_Fat_Content, dtype: int64"
            ]
          },
          "metadata": {
            "tags": []
          },
          "execution_count": 9
        }
      ]
    },
    {
      "cell_type": "code",
      "metadata": {
        "colab": {
          "base_uri": "https://localhost:8080/"
        },
        "id": "VDnPCpFayxCF",
        "outputId": "2b81fd56-ec2a-49bf-de03-86cfc17bce39"
      },
      "source": [
        "# There are inconsistencies with the spelling of low fat and regular so fix that\n",
        "df.loc[df['Item_Fat_Content'] == 'LF', 'Item_Fat_Content'] = 'Low Fat'\n",
        "df.loc[df['Item_Fat_Content'] == 'reg', 'Item_Fat_Content'] = 'Regular'\n",
        "df.loc[df['Item_Fat_Content'] == 'low fat', 'Item_Fat_Content'] = 'Low Fat'\n",
        "df['Item_Fat_Content'].value_counts()"
      ],
      "execution_count": null,
      "outputs": [
        {
          "output_type": "execute_result",
          "data": {
            "text/plain": [
              "Low Fat    5517\n",
              "Regular    3006\n",
              "Name: Item_Fat_Content, dtype: int64"
            ]
          },
          "metadata": {
            "tags": []
          },
          "execution_count": 10
        }
      ]
    },
    {
      "cell_type": "code",
      "metadata": {
        "colab": {
          "base_uri": "https://localhost:8080/"
        },
        "id": "X0SdNtNux8bx",
        "outputId": "e145e64d-c95e-47bc-e592-76eb024e1e90"
      },
      "source": [
        "# Check for inconsistencies with the spelling of item types\n",
        "df['Item_Type'].value_counts()"
      ],
      "execution_count": null,
      "outputs": [
        {
          "output_type": "execute_result",
          "data": {
            "text/plain": [
              "Fruits and Vegetables    1232\n",
              "Snack Foods              1200\n",
              "Household                 910\n",
              "Frozen Foods              856\n",
              "Dairy                     682\n",
              "Canned                    649\n",
              "Baking Goods              648\n",
              "Health and Hygiene        520\n",
              "Soft Drinks               445\n",
              "Meat                      425\n",
              "Breads                    251\n",
              "Hard Drinks               214\n",
              "Others                    169\n",
              "Starchy Foods             148\n",
              "Breakfast                 110\n",
              "Seafood                    64\n",
              "Name: Item_Type, dtype: int64"
            ]
          },
          "metadata": {
            "tags": []
          },
          "execution_count": 11
        }
      ]
    },
    {
      "cell_type": "code",
      "metadata": {
        "colab": {
          "base_uri": "https://localhost:8080/"
        },
        "id": "5qtimr6JzrqY",
        "outputId": "d7af8e61-8f29-4eff-96e9-c7cc82d97a7a"
      },
      "source": [
        "# Check for inconsistencies with outlet location type\n",
        "df['Outlet_Location_Type'].value_counts()"
      ],
      "execution_count": null,
      "outputs": [
        {
          "output_type": "execute_result",
          "data": {
            "text/plain": [
              "Tier 3    3350\n",
              "Tier 2    2785\n",
              "Tier 1    2388\n",
              "Name: Outlet_Location_Type, dtype: int64"
            ]
          },
          "metadata": {
            "tags": []
          },
          "execution_count": 12
        }
      ]
    },
    {
      "cell_type": "code",
      "metadata": {
        "colab": {
          "base_uri": "https://localhost:8080/"
        },
        "id": "CI7oSUDH0JV3",
        "outputId": "c0ea139f-a078-4151-f6a6-98b33f04ecca"
      },
      "source": [
        "# Check for inconsistencies with outlet type\n",
        "df['Outlet_Type'].value_counts()"
      ],
      "execution_count": null,
      "outputs": [
        {
          "output_type": "execute_result",
          "data": {
            "text/plain": [
              "Supermarket Type1    5577\n",
              "Grocery Store        1083\n",
              "Supermarket Type3     935\n",
              "Supermarket Type2     928\n",
              "Name: Outlet_Type, dtype: int64"
            ]
          },
          "metadata": {
            "tags": []
          },
          "execution_count": 13
        }
      ]
    },
    {
      "cell_type": "code",
      "metadata": {
        "colab": {
          "base_uri": "https://localhost:8080/"
        },
        "id": "eyRbgeCryl6k",
        "outputId": "4c7ee5b3-dd26-4d4e-dfdf-f7c357a56749"
      },
      "source": [
        "# Check for any more missing data\n",
        "df.isnull().sum()"
      ],
      "execution_count": null,
      "outputs": [
        {
          "output_type": "execute_result",
          "data": {
            "text/plain": [
              "Item_Fat_Content             0\n",
              "Item_Visibility              0\n",
              "Item_Type                    0\n",
              "Item_MRP                     0\n",
              "Outlet_Identifier            0\n",
              "Outlet_Establishment_Year    0\n",
              "Outlet_Location_Type         0\n",
              "Outlet_Type                  0\n",
              "Item_Outlet_Sales            0\n",
              "dtype: int64"
            ]
          },
          "metadata": {
            "tags": []
          },
          "execution_count": 14
        }
      ]
    },
    {
      "cell_type": "code",
      "metadata": {
        "colab": {
          "base_uri": "https://localhost:8080/",
          "height": 227
        },
        "id": "Av73493011IQ",
        "outputId": "81a888d3-200a-4e54-8718-abe4f7f2f5a6"
      },
      "source": [
        "df.head()"
      ],
      "execution_count": null,
      "outputs": [
        {
          "output_type": "execute_result",
          "data": {
            "text/html": [
              "<div>\n",
              "<style scoped>\n",
              "    .dataframe tbody tr th:only-of-type {\n",
              "        vertical-align: middle;\n",
              "    }\n",
              "\n",
              "    .dataframe tbody tr th {\n",
              "        vertical-align: top;\n",
              "    }\n",
              "\n",
              "    .dataframe thead th {\n",
              "        text-align: right;\n",
              "    }\n",
              "</style>\n",
              "<table border=\"1\" class=\"dataframe\">\n",
              "  <thead>\n",
              "    <tr style=\"text-align: right;\">\n",
              "      <th></th>\n",
              "      <th>Item_Fat_Content</th>\n",
              "      <th>Item_Visibility</th>\n",
              "      <th>Item_Type</th>\n",
              "      <th>Item_MRP</th>\n",
              "      <th>Outlet_Identifier</th>\n",
              "      <th>Outlet_Establishment_Year</th>\n",
              "      <th>Outlet_Location_Type</th>\n",
              "      <th>Outlet_Type</th>\n",
              "      <th>Item_Outlet_Sales</th>\n",
              "    </tr>\n",
              "    <tr>\n",
              "      <th>Item_Identifier</th>\n",
              "      <th></th>\n",
              "      <th></th>\n",
              "      <th></th>\n",
              "      <th></th>\n",
              "      <th></th>\n",
              "      <th></th>\n",
              "      <th></th>\n",
              "      <th></th>\n",
              "      <th></th>\n",
              "    </tr>\n",
              "  </thead>\n",
              "  <tbody>\n",
              "    <tr>\n",
              "      <th>FDA15</th>\n",
              "      <td>Low Fat</td>\n",
              "      <td>0.016047</td>\n",
              "      <td>Dairy</td>\n",
              "      <td>249.8092</td>\n",
              "      <td>OUT049</td>\n",
              "      <td>1999</td>\n",
              "      <td>Tier 1</td>\n",
              "      <td>Supermarket Type1</td>\n",
              "      <td>3735.1380</td>\n",
              "    </tr>\n",
              "    <tr>\n",
              "      <th>DRC01</th>\n",
              "      <td>Regular</td>\n",
              "      <td>0.019278</td>\n",
              "      <td>Soft Drinks</td>\n",
              "      <td>48.2692</td>\n",
              "      <td>OUT018</td>\n",
              "      <td>2009</td>\n",
              "      <td>Tier 3</td>\n",
              "      <td>Supermarket Type2</td>\n",
              "      <td>443.4228</td>\n",
              "    </tr>\n",
              "    <tr>\n",
              "      <th>FDN15</th>\n",
              "      <td>Low Fat</td>\n",
              "      <td>0.016760</td>\n",
              "      <td>Meat</td>\n",
              "      <td>141.6180</td>\n",
              "      <td>OUT049</td>\n",
              "      <td>1999</td>\n",
              "      <td>Tier 1</td>\n",
              "      <td>Supermarket Type1</td>\n",
              "      <td>2097.2700</td>\n",
              "    </tr>\n",
              "    <tr>\n",
              "      <th>FDX07</th>\n",
              "      <td>Regular</td>\n",
              "      <td>0.000000</td>\n",
              "      <td>Fruits and Vegetables</td>\n",
              "      <td>182.0950</td>\n",
              "      <td>OUT010</td>\n",
              "      <td>1998</td>\n",
              "      <td>Tier 3</td>\n",
              "      <td>Grocery Store</td>\n",
              "      <td>732.3800</td>\n",
              "    </tr>\n",
              "    <tr>\n",
              "      <th>NCD19</th>\n",
              "      <td>Low Fat</td>\n",
              "      <td>0.000000</td>\n",
              "      <td>Household</td>\n",
              "      <td>53.8614</td>\n",
              "      <td>OUT013</td>\n",
              "      <td>1987</td>\n",
              "      <td>Tier 3</td>\n",
              "      <td>Supermarket Type1</td>\n",
              "      <td>994.7052</td>\n",
              "    </tr>\n",
              "  </tbody>\n",
              "</table>\n",
              "</div>"
            ],
            "text/plain": [
              "                Item_Fat_Content  ...  Item_Outlet_Sales\n",
              "Item_Identifier                   ...                   \n",
              "FDA15                    Low Fat  ...          3735.1380\n",
              "DRC01                    Regular  ...           443.4228\n",
              "FDN15                    Low Fat  ...          2097.2700\n",
              "FDX07                    Regular  ...           732.3800\n",
              "NCD19                    Low Fat  ...           994.7052\n",
              "\n",
              "[5 rows x 9 columns]"
            ]
          },
          "metadata": {
            "tags": []
          },
          "execution_count": 15
        }
      ]
    },
    {
      "cell_type": "markdown",
      "metadata": {
        "id": "lWmBSviV3Sel"
      },
      "source": [
        "# **Graph #1**"
      ]
    },
    {
      "cell_type": "code",
      "metadata": {
        "id": "6kGdjPJxffSF"
      },
      "source": [
        "# Filters\n",
        "low_fat = df['Item_Fat_Content'] == 'Low Fat'\n",
        "regular = df['Item_Fat_Content'] == 'Regular'\n",
        "\n",
        "# Dataframes of the filters\n",
        "df_lf_sales = df[low_fat]\n",
        "df_reg_sales = df[regular]\n",
        "\n",
        "# Change column name\n",
        "df_lf_sales = df_lf_sales.rename(columns = {'Item_Outlet_Sales' : 'Low Fat Sales'})\n",
        "df_reg_sales = df_reg_sales.rename(columns = {'Item_Outlet_Sales' : 'Regular Sales'})\n",
        "\n",
        "# Sum of sales of low fat and regular for each item type\n",
        "lf_sales_gb = df_lf_sales.groupby(['Item_Type'])[['Low Fat Sales']].sum()\n",
        "reg_sales_gb = df_reg_sales.groupby(['Item_Type'])[['Regular Sales']].sum()"
      ],
      "execution_count": null,
      "outputs": []
    },
    {
      "cell_type": "code",
      "metadata": {
        "colab": {
          "base_uri": "https://localhost:8080/",
          "height": 437
        },
        "id": "UMYUt4w-eLhA",
        "outputId": "59fd83cb-6e56-48e9-ad16-bdc9e0e8f929"
      },
      "source": [
        "# Concatenate new dataframe\n",
        "item_type_sales = pd.concat([lf_sales_gb, reg_sales_gb], axis = 1)\n",
        "item_type_sales.index.name = 'Item_Type'\n",
        "item_type_sales.drop(index = ['Hard Drinks', 'Health and Hygiene', 'Household', 'Others'], inplace = True)\n",
        "total_sales = item_type_sales['Low Fat Sales'] + item_type_sales['Regular Sales']\n",
        "item_type_sales['Total Sales'] = total_sales\n",
        "item_type_sales = item_type_sales.sort_values('Total Sales')\n",
        "\n",
        "pd.set_option('display.float_format', lambda x: '%.2f' % x)\n",
        "\n",
        "item_type_sales"
      ],
      "execution_count": null,
      "outputs": [
        {
          "output_type": "execute_result",
          "data": {
            "text/html": [
              "<div>\n",
              "<style scoped>\n",
              "    .dataframe tbody tr th:only-of-type {\n",
              "        vertical-align: middle;\n",
              "    }\n",
              "\n",
              "    .dataframe tbody tr th {\n",
              "        vertical-align: top;\n",
              "    }\n",
              "\n",
              "    .dataframe thead th {\n",
              "        text-align: right;\n",
              "    }\n",
              "</style>\n",
              "<table border=\"1\" class=\"dataframe\">\n",
              "  <thead>\n",
              "    <tr style=\"text-align: right;\">\n",
              "      <th></th>\n",
              "      <th>Low Fat Sales</th>\n",
              "      <th>Regular Sales</th>\n",
              "      <th>Total Sales</th>\n",
              "    </tr>\n",
              "    <tr>\n",
              "      <th>Item_Type</th>\n",
              "      <th></th>\n",
              "      <th></th>\n",
              "      <th></th>\n",
              "    </tr>\n",
              "  </thead>\n",
              "  <tbody>\n",
              "    <tr>\n",
              "      <th>Seafood</th>\n",
              "      <td>70588.12</td>\n",
              "      <td>78280.10</td>\n",
              "      <td>148868.22</td>\n",
              "    </tr>\n",
              "    <tr>\n",
              "      <th>Breakfast</th>\n",
              "      <td>99441.89</td>\n",
              "      <td>132857.06</td>\n",
              "      <td>232298.95</td>\n",
              "    </tr>\n",
              "    <tr>\n",
              "      <th>Starchy Foods</th>\n",
              "      <td>209790.92</td>\n",
              "      <td>141610.33</td>\n",
              "      <td>351401.25</td>\n",
              "    </tr>\n",
              "    <tr>\n",
              "      <th>Breads</th>\n",
              "      <td>305680.76</td>\n",
              "      <td>247556.42</td>\n",
              "      <td>553237.19</td>\n",
              "    </tr>\n",
              "    <tr>\n",
              "      <th>Soft Drinks</th>\n",
              "      <td>761259.07</td>\n",
              "      <td>131638.65</td>\n",
              "      <td>892897.72</td>\n",
              "    </tr>\n",
              "    <tr>\n",
              "      <th>Meat</th>\n",
              "      <td>346054.88</td>\n",
              "      <td>571510.74</td>\n",
              "      <td>917565.61</td>\n",
              "    </tr>\n",
              "    <tr>\n",
              "      <th>Baking Goods</th>\n",
              "      <td>580523.67</td>\n",
              "      <td>685001.67</td>\n",
              "      <td>1265525.34</td>\n",
              "    </tr>\n",
              "    <tr>\n",
              "      <th>Canned</th>\n",
              "      <td>753171.60</td>\n",
              "      <td>690979.89</td>\n",
              "      <td>1444151.49</td>\n",
              "    </tr>\n",
              "    <tr>\n",
              "      <th>Dairy</th>\n",
              "      <td>896682.79</td>\n",
              "      <td>625911.26</td>\n",
              "      <td>1522594.05</td>\n",
              "    </tr>\n",
              "    <tr>\n",
              "      <th>Frozen Foods</th>\n",
              "      <td>952890.96</td>\n",
              "      <td>872843.83</td>\n",
              "      <td>1825734.79</td>\n",
              "    </tr>\n",
              "    <tr>\n",
              "      <th>Snack Foods</th>\n",
              "      <td>1669089.36</td>\n",
              "      <td>1063696.73</td>\n",
              "      <td>2732786.09</td>\n",
              "    </tr>\n",
              "    <tr>\n",
              "      <th>Fruits and Vegetables</th>\n",
              "      <td>1374915.62</td>\n",
              "      <td>1445144.20</td>\n",
              "      <td>2820059.82</td>\n",
              "    </tr>\n",
              "  </tbody>\n",
              "</table>\n",
              "</div>"
            ],
            "text/plain": [
              "                       Low Fat Sales  Regular Sales  Total Sales\n",
              "Item_Type                                                       \n",
              "Seafood                     70588.12       78280.10    148868.22\n",
              "Breakfast                   99441.89      132857.06    232298.95\n",
              "Starchy Foods              209790.92      141610.33    351401.25\n",
              "Breads                     305680.76      247556.42    553237.19\n",
              "Soft Drinks                761259.07      131638.65    892897.72\n",
              "Meat                       346054.88      571510.74    917565.61\n",
              "Baking Goods               580523.67      685001.67   1265525.34\n",
              "Canned                     753171.60      690979.89   1444151.49\n",
              "Dairy                      896682.79      625911.26   1522594.05\n",
              "Frozen Foods               952890.96      872843.83   1825734.79\n",
              "Snack Foods               1669089.36     1063696.73   2732786.09\n",
              "Fruits and Vegetables     1374915.62     1445144.20   2820059.82"
            ]
          },
          "metadata": {
            "tags": []
          },
          "execution_count": 17
        }
      ]
    },
    {
      "cell_type": "code",
      "metadata": {
        "id": "w5n9pptB3Utr",
        "colab": {
          "base_uri": "https://localhost:8080/",
          "height": 657
        },
        "outputId": "395b73a8-ca5d-4d33-857c-f6145d6a6b7b"
      },
      "source": [
        "# Create a stacked bar chart of sales of low fat and regular items for each item type\n",
        "item_type_sales.plot(y = ['Low Fat Sales', 'Regular Sales'], kind = 'barh', stacked = True, figsize = (15,10), color = ['orange', 'blue'])\n",
        "\n",
        "plt.xlabel('Sales', fontsize = 18)\n",
        "plt.xticks(fontsize = 15)\n",
        "plt.ylabel('Item Type', fontsize = 18)\n",
        "plt.yticks(fontsize = 15)\n",
        "plt.title('Sales of Low Fat and Regular Items For Each Type of Item', fontsize = 20)\n",
        "plt.legend(loc = 4, fontsize = 18)\n",
        ";"
      ],
      "execution_count": null,
      "outputs": [
        {
          "output_type": "execute_result",
          "data": {
            "application/vnd.google.colaboratory.intrinsic+json": {
              "type": "string"
            },
            "text/plain": [
              "''"
            ]
          },
          "metadata": {
            "tags": []
          },
          "execution_count": 18
        },
        {
          "output_type": "display_data",
          "data": {
            "image/png": "[encoded data removed]",
            "text/plain": [
              "<Figure size 1080x720 with 1 Axes>"
            ]
          },
          "metadata": {
            "tags": [],
            "needs_background": "light"
          }
        }
      ]
    },
    {
      "cell_type": "markdown",
      "metadata": {
        "id": "M6UxSPM7pUTH"
      },
      "source": [
        "# **Graph #2**"
      ]
    },
    {
      "cell_type": "code",
      "metadata": {
        "colab": {
          "base_uri": "https://localhost:8080/",
          "height": 377
        },
        "id": "LczKL3PZhcCl",
        "outputId": "5a12f575-de2e-4431-b8b8-b4add78fcfdd"
      },
      "source": [
        "# Item sales from each store\n",
        "outlet_sales_gb = df.groupby(['Outlet_Type', 'Outlet_Identifier'])[['Item_Outlet_Sales']].sum()\n",
        "outlet_sales = pd.concat([outlet_sales_gb], axis = 1)\n",
        "outlet_sales"
      ],
      "execution_count": null,
      "outputs": [
        {
          "output_type": "execute_result",
          "data": {
            "text/html": [
              "<div>\n",
              "<style scoped>\n",
              "    .dataframe tbody tr th:only-of-type {\n",
              "        vertical-align: middle;\n",
              "    }\n",
              "\n",
              "    .dataframe tbody tr th {\n",
              "        vertical-align: top;\n",
              "    }\n",
              "\n",
              "    .dataframe thead th {\n",
              "        text-align: right;\n",
              "    }\n",
              "</style>\n",
              "<table border=\"1\" class=\"dataframe\">\n",
              "  <thead>\n",
              "    <tr style=\"text-align: right;\">\n",
              "      <th></th>\n",
              "      <th></th>\n",
              "      <th>Item_Outlet_Sales</th>\n",
              "    </tr>\n",
              "    <tr>\n",
              "      <th>Outlet_Type</th>\n",
              "      <th>Outlet_Identifier</th>\n",
              "      <th></th>\n",
              "    </tr>\n",
              "  </thead>\n",
              "  <tbody>\n",
              "    <tr>\n",
              "      <th rowspan=\"2\" valign=\"top\">Grocery Store</th>\n",
              "      <th>OUT010</th>\n",
              "      <td>188340.17</td>\n",
              "    </tr>\n",
              "    <tr>\n",
              "      <th>OUT019</th>\n",
              "      <td>179694.09</td>\n",
              "    </tr>\n",
              "    <tr>\n",
              "      <th rowspan=\"6\" valign=\"top\">Supermarket Type1</th>\n",
              "      <th>OUT013</th>\n",
              "      <td>2142663.58</td>\n",
              "    </tr>\n",
              "    <tr>\n",
              "      <th>OUT017</th>\n",
              "      <td>2167465.29</td>\n",
              "    </tr>\n",
              "    <tr>\n",
              "      <th>OUT035</th>\n",
              "      <td>2268122.94</td>\n",
              "    </tr>\n",
              "    <tr>\n",
              "      <th>OUT045</th>\n",
              "      <td>2036725.48</td>\n",
              "    </tr>\n",
              "    <tr>\n",
              "      <th>OUT046</th>\n",
              "      <td>2118395.17</td>\n",
              "    </tr>\n",
              "    <tr>\n",
              "      <th>OUT049</th>\n",
              "      <td>2183969.81</td>\n",
              "    </tr>\n",
              "    <tr>\n",
              "      <th>Supermarket Type2</th>\n",
              "      <th>OUT018</th>\n",
              "      <td>1851822.83</td>\n",
              "    </tr>\n",
              "    <tr>\n",
              "      <th>Supermarket Type3</th>\n",
              "      <th>OUT027</th>\n",
              "      <td>3453926.05</td>\n",
              "    </tr>\n",
              "  </tbody>\n",
              "</table>\n",
              "</div>"
            ],
            "text/plain": [
              "                                     Item_Outlet_Sales\n",
              "Outlet_Type       Outlet_Identifier                   \n",
              "Grocery Store     OUT010                     188340.17\n",
              "                  OUT019                     179694.09\n",
              "Supermarket Type1 OUT013                    2142663.58\n",
              "                  OUT017                    2167465.29\n",
              "                  OUT035                    2268122.94\n",
              "                  OUT045                    2036725.48\n",
              "                  OUT046                    2118395.17\n",
              "                  OUT049                    2183969.81\n",
              "Supermarket Type2 OUT018                    1851822.83\n",
              "Supermarket Type3 OUT027                    3453926.05"
            ]
          },
          "metadata": {
            "tags": []
          },
          "execution_count": 19
        }
      ]
    },
    {
      "cell_type": "code",
      "metadata": {
        "colab": {
          "base_uri": "https://localhost:8080/",
          "height": 657
        },
        "id": "4CsATDMrjyQk",
        "outputId": "bdfb9a87-0015-4093-d399-1c7442e7f258"
      },
      "source": [
        "# Create a bar chart of sales per store\n",
        "outlet_sales.plot(kind = 'barh', figsize = (15,10), color = 'red', legend = None)\n",
        "\n",
        "plt.xlabel('Store Type', fontsize = 18)\n",
        "plt.xticks(fontsize = 15, rotation = 0)\n",
        "plt.ylabel('Sales per Store', fontsize = 18)\n",
        "plt.yticks(fontsize = 15)\n",
        "plt.title('Sales Per Store', fontsize = 20)\n",
        ";"
      ],
      "execution_count": null,
      "outputs": [
        {
          "output_type": "execute_result",
          "data": {
            "application/vnd.google.colaboratory.intrinsic+json": {
              "type": "string"
            },
            "text/plain": [
              "''"
            ]
          },
          "metadata": {
            "tags": []
          },
          "execution_count": 20
        },
        {
          "output_type": "display_data",
          "data": {
            "image/png": "[encoded data removed]",
            "text/plain": [
              "<Figure size 1080x720 with 1 Axes>"
            ]
          },
          "metadata": {
            "tags": [],
            "needs_background": "light"
          }
        }
      ]
    },
    {
      "cell_type": "markdown",
      "metadata": {
        "id": "O2SO2ANYo5L-"
      },
      "source": [
        "# **Histogram**"
      ]
    },
    {
      "cell_type": "code",
      "metadata": {
        "colab": {
          "base_uri": "https://localhost:8080/",
          "height": 635
        },
        "id": "I4nYvSoJjGi1",
        "outputId": "9c344ad5-f98a-4424-c26f-538c8a2eecac"
      },
      "source": [
        "# Histogram of item mrp\n",
        "df['Item_MRP'].hist(bins = 20, color = 'skyblue', edgecolor = 'black', figsize = (15,10))\n",
        "plt.style.use('seaborn')\n",
        "\n",
        "plt.xlabel('Item Maximum Retail Price', fontsize = 18)\n",
        "plt.xticks(fontsize = 15)\n",
        "plt.yticks(fontsize = 15)\n",
        ";"
      ],
      "execution_count": null,
      "outputs": [
        {
          "output_type": "execute_result",
          "data": {
            "application/vnd.google.colaboratory.intrinsic+json": {
              "type": "string"
            },
            "text/plain": [
              "''"
            ]
          },
          "metadata": {
            "tags": []
          },
          "execution_count": 21
        },
        {
          "output_type": "display_data",
          "data": {
            "image/png": "[encoded data removed]",
            "text/plain": [
              "<Figure size 1080x720 with 1 Axes>"
            ]
          },
          "metadata": {
            "tags": [],
            "needs_background": "light"
          }
        }
      ]
    },
    {
      "cell_type": "code",
      "metadata": {
        "colab": {
          "base_uri": "https://localhost:8080/",
          "height": 635
        },
        "id": "dpFFR9TxWeZo",
        "outputId": "ff262db3-289a-409f-ed23-c279ff6cd40f"
      },
      "source": [
        "# Histogram of item visibility\n",
        "df['Item_Visibility'].hist(bins = 20, color = 'gold', edgecolor = 'black', figsize = (15,10),)\n",
        "#plt.style.use('seaborn')\n",
        "\n",
        "plt.xlabel('Item Visibility', fontsize = 18)\n",
        "plt.xticks(fontsize = 15)\n",
        "plt.yticks(fontsize = 15)\n",
        ";"
      ],
      "execution_count": null,
      "outputs": [
        {
          "output_type": "execute_result",
          "data": {
            "application/vnd.google.colaboratory.intrinsic+json": {
              "type": "string"
            },
            "text/plain": [
              "''"
            ]
          },
          "metadata": {
            "tags": []
          },
          "execution_count": 320
        },
        {
          "output_type": "display_data",
          "data": {
            "image/png": "[encoded data removed]",
            "text/plain": [
              "<Figure size 1080x720 with 1 Axes>"
            ]
          },
          "metadata": {
            "tags": []
          }
        }
      ]
    },
    {
      "cell_type": "markdown",
      "metadata": {
        "id": "Y4_1MXAUo8bU"
      },
      "source": [
        "# **Boxplot**"
      ]
    },
    {
      "cell_type": "code",
      "metadata": {
        "colab": {
          "base_uri": "https://localhost:8080/",
          "height": 744
        },
        "id": "5FxM84tVXZMj",
        "outputId": "448a735b-2fab-40cc-cff5-d987752f61b9"
      },
      "source": [
        "# Boxplot of sales by outlet location type\n",
        "df.boxplot(column = 'Item_Outlet_Sales', by = 'Outlet_Location_Type', figsize = (15,10))\n",
        "\n",
        "plt.title(' ')\n",
        "plt.suptitle(' ')\n",
        "plt.xlabel('Store Location Type', fontsize = 18)\n",
        "plt.xticks(fontsize = 15)\n",
        "plt.ylabel('Sales', fontsize = 18)\n",
        "plt.yticks(fontsize = 15)\n",
        ";"
      ],
      "execution_count": null,
      "outputs": [
        {
          "output_type": "stream",
          "text": [
            "/usr/local/lib/python3.7/dist-packages/numpy/core/_asarray.py:83: VisibleDeprecationWarning: Creating an ndarray from ragged nested sequences (which is a list-or-tuple of lists-or-tuples-or ndarrays with different lengths or shapes) is deprecated. If you meant to do this, you must specify 'dtype=object' when creating the ndarray\n",
            "  return array(a, dtype, copy=False, order=order)\n"
          ],
          "name": "stderr"
        },
        {
          "output_type": "execute_result",
          "data": {
            "application/vnd.google.colaboratory.intrinsic+json": {
              "type": "string"
            },
            "text/plain": [
              "''"
            ]
          },
          "metadata": {
            "tags": []
          },
          "execution_count": 23
        },
        {
          "output_type": "display_data",
          "data": {
            "image/png": "[encoded data removed]",
            "text/plain": [
              "<Figure size 1080x720 with 1 Axes>"
            ]
          },
          "metadata": {
            "tags": []
          }
        }
      ]
    },
    {
      "cell_type": "markdown",
      "metadata": {
        "id": "oFK-rSGxpBNN"
      },
      "source": [
        "# **Prediction Models**"
      ]
    },
    {
      "cell_type": "code",
      "metadata": {
        "id": "oP7a_l5KFLh5"
      },
      "source": [
        "# Map the replacement dictionary\n",
        "df['Outlet_Establishment_Year'] = df['Outlet_Establishment_Year'].map({1985: 0, 1987: 1, 1997: 2, 1998: 3, 1999: 4, 2002: 5, 2004: 6, 2007: 7, 2009: 8})"
      ],
      "execution_count": null,
      "outputs": []
    },
    {
      "cell_type": "code",
      "metadata": {
        "id": "9hXhFG7bFj4u",
        "colab": {
          "base_uri": "https://localhost:8080/",
          "height": 227
        },
        "outputId": "50c5000a-f4ee-4162-9515-4551e463476b"
      },
      "source": [
        "df.head()"
      ],
      "execution_count": null,
      "outputs": [
        {
          "output_type": "execute_result",
          "data": {
            "text/html": [
              "<div>\n",
              "<style scoped>\n",
              "    .dataframe tbody tr th:only-of-type {\n",
              "        vertical-align: middle;\n",
              "    }\n",
              "\n",
              "    .dataframe tbody tr th {\n",
              "        vertical-align: top;\n",
              "    }\n",
              "\n",
              "    .dataframe thead th {\n",
              "        text-align: right;\n",
              "    }\n",
              "</style>\n",
              "<table border=\"1\" class=\"dataframe\">\n",
              "  <thead>\n",
              "    <tr style=\"text-align: right;\">\n",
              "      <th></th>\n",
              "      <th>Item_Fat_Content</th>\n",
              "      <th>Item_Visibility</th>\n",
              "      <th>Item_Type</th>\n",
              "      <th>Item_MRP</th>\n",
              "      <th>Outlet_Identifier</th>\n",
              "      <th>Outlet_Establishment_Year</th>\n",
              "      <th>Outlet_Location_Type</th>\n",
              "      <th>Outlet_Type</th>\n",
              "      <th>Item_Outlet_Sales</th>\n",
              "    </tr>\n",
              "    <tr>\n",
              "      <th>Item_Identifier</th>\n",
              "      <th></th>\n",
              "      <th></th>\n",
              "      <th></th>\n",
              "      <th></th>\n",
              "      <th></th>\n",
              "      <th></th>\n",
              "      <th></th>\n",
              "      <th></th>\n",
              "      <th></th>\n",
              "    </tr>\n",
              "  </thead>\n",
              "  <tbody>\n",
              "    <tr>\n",
              "      <th>FDA15</th>\n",
              "      <td>Low Fat</td>\n",
              "      <td>0.02</td>\n",
              "      <td>Dairy</td>\n",
              "      <td>249.81</td>\n",
              "      <td>OUT049</td>\n",
              "      <td>4</td>\n",
              "      <td>Tier 1</td>\n",
              "      <td>Supermarket Type1</td>\n",
              "      <td>3735.14</td>\n",
              "    </tr>\n",
              "    <tr>\n",
              "      <th>DRC01</th>\n",
              "      <td>Regular</td>\n",
              "      <td>0.02</td>\n",
              "      <td>Soft Drinks</td>\n",
              "      <td>48.27</td>\n",
              "      <td>OUT018</td>\n",
              "      <td>8</td>\n",
              "      <td>Tier 3</td>\n",
              "      <td>Supermarket Type2</td>\n",
              "      <td>443.42</td>\n",
              "    </tr>\n",
              "    <tr>\n",
              "      <th>FDN15</th>\n",
              "      <td>Low Fat</td>\n",
              "      <td>0.02</td>\n",
              "      <td>Meat</td>\n",
              "      <td>141.62</td>\n",
              "      <td>OUT049</td>\n",
              "      <td>4</td>\n",
              "      <td>Tier 1</td>\n",
              "      <td>Supermarket Type1</td>\n",
              "      <td>2097.27</td>\n",
              "    </tr>\n",
              "    <tr>\n",
              "      <th>FDX07</th>\n",
              "      <td>Regular</td>\n",
              "      <td>0.00</td>\n",
              "      <td>Fruits and Vegetables</td>\n",
              "      <td>182.09</td>\n",
              "      <td>OUT010</td>\n",
              "      <td>3</td>\n",
              "      <td>Tier 3</td>\n",
              "      <td>Grocery Store</td>\n",
              "      <td>732.38</td>\n",
              "    </tr>\n",
              "    <tr>\n",
              "      <th>NCD19</th>\n",
              "      <td>Low Fat</td>\n",
              "      <td>0.00</td>\n",
              "      <td>Household</td>\n",
              "      <td>53.86</td>\n",
              "      <td>OUT013</td>\n",
              "      <td>1</td>\n",
              "      <td>Tier 3</td>\n",
              "      <td>Supermarket Type1</td>\n",
              "      <td>994.71</td>\n",
              "    </tr>\n",
              "  </tbody>\n",
              "</table>\n",
              "</div>"
            ],
            "text/plain": [
              "                Item_Fat_Content  ...  Item_Outlet_Sales\n",
              "Item_Identifier                   ...                   \n",
              "FDA15                    Low Fat  ...            3735.14\n",
              "DRC01                    Regular  ...             443.42\n",
              "FDN15                    Low Fat  ...            2097.27\n",
              "FDX07                    Regular  ...             732.38\n",
              "NCD19                    Low Fat  ...             994.71\n",
              "\n",
              "[5 rows x 9 columns]"
            ]
          },
          "metadata": {
            "tags": []
          },
          "execution_count": 25
        }
      ]
    },
    {
      "cell_type": "code",
      "metadata": {
        "id": "hM1ytIvLHg58"
      },
      "source": [
        "# One-hot encode nominal categorical variables\n",
        "ohe = pd.get_dummies(df, columns = ['Item_Fat_Content', 'Item_Type', 'Outlet_Identifier', 'Outlet_Location_Type', 'Outlet_Type'], drop_first = True)"
      ],
      "execution_count": null,
      "outputs": []
    },
    {
      "cell_type": "code",
      "metadata": {
        "id": "bWlfzUXGMAE3",
        "colab": {
          "base_uri": "https://localhost:8080/",
          "height": 264
        },
        "outputId": "ef9cd098-641d-4dd9-f165-17feacb13a7f"
      },
      "source": [
        "ohe.head()"
      ],
      "execution_count": null,
      "outputs": [
        {
          "output_type": "execute_result",
          "data": {
            "text/html": [
              "<div>\n",
              "<style scoped>\n",
              "    .dataframe tbody tr th:only-of-type {\n",
              "        vertical-align: middle;\n",
              "    }\n",
              "\n",
              "    .dataframe tbody tr th {\n",
              "        vertical-align: top;\n",
              "    }\n",
              "\n",
              "    .dataframe thead th {\n",
              "        text-align: right;\n",
              "    }\n",
              "</style>\n",
              "<table border=\"1\" class=\"dataframe\">\n",
              "  <thead>\n",
              "    <tr style=\"text-align: right;\">\n",
              "      <th></th>\n",
              "      <th>Item_Visibility</th>\n",
              "      <th>Item_MRP</th>\n",
              "      <th>Outlet_Establishment_Year</th>\n",
              "      <th>Item_Outlet_Sales</th>\n",
              "      <th>Item_Fat_Content_Regular</th>\n",
              "      <th>Item_Type_Breads</th>\n",
              "      <th>Item_Type_Breakfast</th>\n",
              "      <th>Item_Type_Canned</th>\n",
              "      <th>Item_Type_Dairy</th>\n",
              "      <th>Item_Type_Frozen Foods</th>\n",
              "      <th>Item_Type_Fruits and Vegetables</th>\n",
              "      <th>Item_Type_Hard Drinks</th>\n",
              "      <th>Item_Type_Health and Hygiene</th>\n",
              "      <th>Item_Type_Household</th>\n",
              "      <th>Item_Type_Meat</th>\n",
              "      <th>Item_Type_Others</th>\n",
              "      <th>Item_Type_Seafood</th>\n",
              "      <th>Item_Type_Snack Foods</th>\n",
              "      <th>Item_Type_Soft Drinks</th>\n",
              "      <th>Item_Type_Starchy Foods</th>\n",
              "      <th>Outlet_Identifier_OUT013</th>\n",
              "      <th>Outlet_Identifier_OUT017</th>\n",
              "      <th>Outlet_Identifier_OUT018</th>\n",
              "      <th>Outlet_Identifier_OUT019</th>\n",
              "      <th>Outlet_Identifier_OUT027</th>\n",
              "      <th>Outlet_Identifier_OUT035</th>\n",
              "      <th>Outlet_Identifier_OUT045</th>\n",
              "      <th>Outlet_Identifier_OUT046</th>\n",
              "      <th>Outlet_Identifier_OUT049</th>\n",
              "      <th>Outlet_Location_Type_Tier 2</th>\n",
              "      <th>Outlet_Location_Type_Tier 3</th>\n",
              "      <th>Outlet_Type_Supermarket Type1</th>\n",
              "      <th>Outlet_Type_Supermarket Type2</th>\n",
              "      <th>Outlet_Type_Supermarket Type3</th>\n",
              "    </tr>\n",
              "    <tr>\n",
              "      <th>Item_Identifier</th>\n",
              "      <th></th>\n",
              "      <th></th>\n",
              "      <th></th>\n",
              "      <th></th>\n",
              "      <th></th>\n",
              "      <th></th>\n",
              "      <th></th>\n",
              "      <th></th>\n",
              "      <th></th>\n",
              "      <th></th>\n",
              "      <th></th>\n",
              "      <th></th>\n",
              "      <th></th>\n",
              "      <th></th>\n",
              "      <th></th>\n",
              "      <th></th>\n",
              "      <th></th>\n",
              "      <th></th>\n",
              "      <th></th>\n",
              "      <th></th>\n",
              "      <th></th>\n",
              "      <th></th>\n",
              "      <th></th>\n",
              "      <th></th>\n",
              "      <th></th>\n",
              "      <th></th>\n",
              "      <th></th>\n",
              "      <th></th>\n",
              "      <th></th>\n",
              "      <th></th>\n",
              "      <th></th>\n",
              "      <th></th>\n",
              "      <th></th>\n",
              "      <th></th>\n",
              "    </tr>\n",
              "  </thead>\n",
              "  <tbody>\n",
              "    <tr>\n",
              "      <th>FDA15</th>\n",
              "      <td>0.02</td>\n",
              "      <td>249.81</td>\n",
              "      <td>4</td>\n",
              "      <td>3735.14</td>\n",
              "      <td>0</td>\n",
              "      <td>0</td>\n",
              "      <td>0</td>\n",
              "      <td>0</td>\n",
              "      <td>1</td>\n",
              "      <td>0</td>\n",
              "      <td>0</td>\n",
              "      <td>0</td>\n",
              "      <td>0</td>\n",
              "      <td>0</td>\n",
              "      <td>0</td>\n",
              "      <td>0</td>\n",
              "      <td>0</td>\n",
              "      <td>0</td>\n",
              "      <td>0</td>\n",
              "      <td>0</td>\n",
              "      <td>0</td>\n",
              "      <td>0</td>\n",
              "      <td>0</td>\n",
              "      <td>0</td>\n",
              "      <td>0</td>\n",
              "      <td>0</td>\n",
              "      <td>0</td>\n",
              "      <td>0</td>\n",
              "      <td>1</td>\n",
              "      <td>0</td>\n",
              "      <td>0</td>\n",
              "      <td>1</td>\n",
              "      <td>0</td>\n",
              "      <td>0</td>\n",
              "    </tr>\n",
              "    <tr>\n",
              "      <th>DRC01</th>\n",
              "      <td>0.02</td>\n",
              "      <td>48.27</td>\n",
              "      <td>8</td>\n",
              "      <td>443.42</td>\n",
              "      <td>1</td>\n",
              "      <td>0</td>\n",
              "      <td>0</td>\n",
              "      <td>0</td>\n",
              "      <td>0</td>\n",
              "      <td>0</td>\n",
              "      <td>0</td>\n",
              "      <td>0</td>\n",
              "      <td>0</td>\n",
              "      <td>0</td>\n",
              "      <td>0</td>\n",
              "      <td>0</td>\n",
              "      <td>0</td>\n",
              "      <td>0</td>\n",
              "      <td>1</td>\n",
              "      <td>0</td>\n",
              "      <td>0</td>\n",
              "      <td>0</td>\n",
              "      <td>1</td>\n",
              "      <td>0</td>\n",
              "      <td>0</td>\n",
              "      <td>0</td>\n",
              "      <td>0</td>\n",
              "      <td>0</td>\n",
              "      <td>0</td>\n",
              "      <td>0</td>\n",
              "      <td>1</td>\n",
              "      <td>0</td>\n",
              "      <td>1</td>\n",
              "      <td>0</td>\n",
              "    </tr>\n",
              "    <tr>\n",
              "      <th>FDN15</th>\n",
              "      <td>0.02</td>\n",
              "      <td>141.62</td>\n",
              "      <td>4</td>\n",
              "      <td>2097.27</td>\n",
              "      <td>0</td>\n",
              "      <td>0</td>\n",
              "      <td>0</td>\n",
              "      <td>0</td>\n",
              "      <td>0</td>\n",
              "      <td>0</td>\n",
              "      <td>0</td>\n",
              "      <td>0</td>\n",
              "      <td>0</td>\n",
              "      <td>0</td>\n",
              "      <td>1</td>\n",
              "      <td>0</td>\n",
              "      <td>0</td>\n",
              "      <td>0</td>\n",
              "      <td>0</td>\n",
              "      <td>0</td>\n",
              "      <td>0</td>\n",
              "      <td>0</td>\n",
              "      <td>0</td>\n",
              "      <td>0</td>\n",
              "      <td>0</td>\n",
              "      <td>0</td>\n",
              "      <td>0</td>\n",
              "      <td>0</td>\n",
              "      <td>1</td>\n",
              "      <td>0</td>\n",
              "      <td>0</td>\n",
              "      <td>1</td>\n",
              "      <td>0</td>\n",
              "      <td>0</td>\n",
              "    </tr>\n",
              "    <tr>\n",
              "      <th>FDX07</th>\n",
              "      <td>0.00</td>\n",
              "      <td>182.09</td>\n",
              "      <td>3</td>\n",
              "      <td>732.38</td>\n",
              "      <td>1</td>\n",
              "      <td>0</td>\n",
              "      <td>0</td>\n",
              "      <td>0</td>\n",
              "      <td>0</td>\n",
              "      <td>0</td>\n",
              "      <td>1</td>\n",
              "      <td>0</td>\n",
              "      <td>0</td>\n",
              "      <td>0</td>\n",
              "      <td>0</td>\n",
              "      <td>0</td>\n",
              "      <td>0</td>\n",
              "      <td>0</td>\n",
              "      <td>0</td>\n",
              "      <td>0</td>\n",
              "      <td>0</td>\n",
              "      <td>0</td>\n",
              "      <td>0</td>\n",
              "      <td>0</td>\n",
              "      <td>0</td>\n",
              "      <td>0</td>\n",
              "      <td>0</td>\n",
              "      <td>0</td>\n",
              "      <td>0</td>\n",
              "      <td>0</td>\n",
              "      <td>1</td>\n",
              "      <td>0</td>\n",
              "      <td>0</td>\n",
              "      <td>0</td>\n",
              "    </tr>\n",
              "    <tr>\n",
              "      <th>NCD19</th>\n",
              "      <td>0.00</td>\n",
              "      <td>53.86</td>\n",
              "      <td>1</td>\n",
              "      <td>994.71</td>\n",
              "      <td>0</td>\n",
              "      <td>0</td>\n",
              "      <td>0</td>\n",
              "      <td>0</td>\n",
              "      <td>0</td>\n",
              "      <td>0</td>\n",
              "      <td>0</td>\n",
              "      <td>0</td>\n",
              "      <td>0</td>\n",
              "      <td>1</td>\n",
              "      <td>0</td>\n",
              "      <td>0</td>\n",
              "      <td>0</td>\n",
              "      <td>0</td>\n",
              "      <td>0</td>\n",
              "      <td>0</td>\n",
              "      <td>1</td>\n",
              "      <td>0</td>\n",
              "      <td>0</td>\n",
              "      <td>0</td>\n",
              "      <td>0</td>\n",
              "      <td>0</td>\n",
              "      <td>0</td>\n",
              "      <td>0</td>\n",
              "      <td>0</td>\n",
              "      <td>0</td>\n",
              "      <td>1</td>\n",
              "      <td>1</td>\n",
              "      <td>0</td>\n",
              "      <td>0</td>\n",
              "    </tr>\n",
              "  </tbody>\n",
              "</table>\n",
              "</div>"
            ],
            "text/plain": [
              "                 Item_Visibility  ...  Outlet_Type_Supermarket Type3\n",
              "Item_Identifier                   ...                               \n",
              "FDA15                       0.02  ...                              0\n",
              "DRC01                       0.02  ...                              0\n",
              "FDN15                       0.02  ...                              0\n",
              "FDX07                       0.00  ...                              0\n",
              "NCD19                       0.00  ...                              0\n",
              "\n",
              "[5 rows x 34 columns]"
            ]
          },
          "metadata": {
            "tags": []
          },
          "execution_count": 27
        }
      ]
    },
    {
      "cell_type": "code",
      "metadata": {
        "id": "qyjWFyRIEXMU"
      },
      "source": [
        "# Arrange data into features matrix and target vector\n",
        "X = ohe[['Item_Visibility',\n",
        "        'Item_MRP',\n",
        "        'Outlet_Establishment_Year',\n",
        "        'Item_Fat_Content_Regular',\n",
        "        'Item_Type_Breads', 'Item_Type_Breakfast', 'Item_Type_Canned', 'Item_Type_Dairy', 'Item_Type_Frozen Foods', 'Item_Type_Fruits and Vegetables', 'Item_Type_Hard Drinks', 'Item_Type_Health and Hygiene', 'Item_Type_Household', 'Item_Type_Meat', 'Item_Type_Others', 'Item_Type_Seafood', 'Item_Type_Snack Foods', 'Item_Type_Soft Drinks', 'Item_Type_Starchy Foods',\n",
        "        'Outlet_Identifier_OUT013', 'Outlet_Identifier_OUT017', 'Outlet_Identifier_OUT018', 'Outlet_Identifier_OUT019', 'Outlet_Identifier_OUT027', 'Outlet_Identifier_OUT035', 'Outlet_Identifier_OUT045', 'Outlet_Identifier_OUT046', 'Outlet_Identifier_OUT049',\n",
        "        'Outlet_Location_Type_Tier 2', 'Outlet_Location_Type_Tier 3', 'Outlet_Type_Supermarket Type1', 'Outlet_Type_Supermarket Type2', 'Outlet_Type_Supermarket Type3']]\n",
        "y = ohe['Item_Outlet_Sales']"
      ],
      "execution_count": null,
      "outputs": []
    },
    {
      "cell_type": "markdown",
      "metadata": {
        "id": "Ck4HhcXTpIPA"
      },
      "source": [
        "# **KNN without train-test-split**"
      ]
    },
    {
      "cell_type": "code",
      "metadata": {
        "id": "_TM31y5wJ00s"
      },
      "source": [
        "# Standardize data, fit on x, and transform x\n",
        "scaler = StandardScaler()\n",
        "scaler.fit(X)\n",
        "X_scaled = scaler.transform(X);"
      ],
      "execution_count": null,
      "outputs": []
    },
    {
      "cell_type": "code",
      "metadata": {
        "id": "In9igX7vPmlJ",
        "colab": {
          "base_uri": "https://localhost:8080/"
        },
        "outputId": "9e7a8a67-e1f9-437e-fa44-1dfe84e2a415"
      },
      "source": [
        "# KNN regressor\n",
        "knn = KNeighborsRegressor(n_neighbors = 2)\n",
        "knn.fit(X_scaled, y)"
      ],
      "execution_count": null,
      "outputs": [
        {
          "output_type": "execute_result",
          "data": {
            "text/plain": [
              "KNeighborsRegressor(algorithm='auto', leaf_size=30, metric='minkowski',\n",
              "                    metric_params=None, n_jobs=None, n_neighbors=2, p=2,\n",
              "                    weights='uniform')"
            ]
          },
          "metadata": {
            "tags": []
          },
          "execution_count": 99
        }
      ]
    },
    {
      "cell_type": "code",
      "metadata": {
        "id": "LCprHnAAQBU9",
        "colab": {
          "base_uri": "https://localhost:8080/"
        },
        "outputId": "94be6bee-2cea-4810-e877-17a7f23138fc"
      },
      "source": [
        "# KNN r^2 score\n",
        "knn.score(X_scaled, y)"
      ],
      "execution_count": null,
      "outputs": [
        {
          "output_type": "execute_result",
          "data": {
            "text/plain": [
              "0.7922014182508275"
            ]
          },
          "metadata": {
            "tags": []
          },
          "execution_count": 100
        }
      ]
    },
    {
      "cell_type": "markdown",
      "metadata": {
        "id": "ssOh9YCHpM9x"
      },
      "source": [
        "# **Linear Regression without train-test-split**"
      ]
    },
    {
      "cell_type": "code",
      "metadata": {
        "id": "oFa0y20CQE_E",
        "colab": {
          "base_uri": "https://localhost:8080/"
        },
        "outputId": "9e550ded-a02d-4dc4-9594-c4cd39f272cd"
      },
      "source": [
        "# Linear Regression\n",
        "reg = LinearRegression()\n",
        "reg.fit(X, y)"
      ],
      "execution_count": null,
      "outputs": [
        {
          "output_type": "execute_result",
          "data": {
            "text/plain": [
              "LinearRegression(copy_X=True, fit_intercept=True, n_jobs=None, normalize=False)"
            ]
          },
          "metadata": {
            "tags": []
          },
          "execution_count": 101
        }
      ]
    },
    {
      "cell_type": "code",
      "metadata": {
        "id": "1kxWFMAxZdr_",
        "colab": {
          "base_uri": "https://localhost:8080/"
        },
        "outputId": "5aab5e42-ff5b-47da-c5cb-89184ac3c183"
      },
      "source": [
        "# Linear regression r^2 score\n",
        "reg.score(X, y)"
      ],
      "execution_count": null,
      "outputs": [
        {
          "output_type": "execute_result",
          "data": {
            "text/plain": [
              "0.56376350454416"
            ]
          },
          "metadata": {
            "tags": []
          },
          "execution_count": 102
        }
      ]
    },
    {
      "cell_type": "markdown",
      "metadata": {
        "id": "4mjU_iBtpSY_"
      },
      "source": [
        "# **KNN with train-test-split**"
      ]
    },
    {
      "cell_type": "code",
      "metadata": {
        "id": "0ldpz-lXaEWD"
      },
      "source": [
        "# Train-test-split\n",
        "X_train, X_test, y_train, y_test = train_test_split(X, y, test_size = .3 , random_state=22)"
      ],
      "execution_count": null,
      "outputs": []
    },
    {
      "cell_type": "code",
      "metadata": {
        "id": "SBaU658qhL-p"
      },
      "source": [
        "# Standardize data\n",
        "scaler = StandardScaler()\n",
        "# Fit on x\n",
        "scaler.fit(X_train)\n",
        "# Transform x_train and x_test\n",
        "X_train = scaler.transform(X_train)\n",
        "X_test = scaler.transform(X_test)"
      ],
      "execution_count": null,
      "outputs": []
    },
    {
      "cell_type": "code",
      "metadata": {
        "id": "LOl7XGdPkD-g",
        "colab": {
          "base_uri": "https://localhost:8080/"
        },
        "outputId": "9dd20b10-028b-4618-db66-23da3ea80aeb"
      },
      "source": [
        "# KNN regressor with train-test-split\n",
        "knn_tts = KNeighborsRegressor(n_neighbors=9)\n",
        "knn_tts.fit(X_train, y_train)"
      ],
      "execution_count": null,
      "outputs": [
        {
          "output_type": "execute_result",
          "data": {
            "text/plain": [
              "KNeighborsRegressor(algorithm='auto', leaf_size=30, metric='minkowski',\n",
              "                    metric_params=None, n_jobs=None, n_neighbors=9, p=2,\n",
              "                    weights='uniform')"
            ]
          },
          "metadata": {
            "tags": []
          },
          "execution_count": 164
        }
      ]
    },
    {
      "cell_type": "code",
      "metadata": {
        "id": "DAJKE0JYkHgW",
        "colab": {
          "base_uri": "https://localhost:8080/"
        },
        "outputId": "ddf687be-3f88-42f8-8d41-ea3cfe5520c6"
      },
      "source": [
        "# KNN training r^2 score\n",
        "knn_tts.score(X_train, y_train)"
      ],
      "execution_count": null,
      "outputs": [
        {
          "output_type": "execute_result",
          "data": {
            "text/plain": [
              "0.6086915993960061"
            ]
          },
          "metadata": {
            "tags": []
          },
          "execution_count": 165
        }
      ]
    },
    {
      "cell_type": "code",
      "metadata": {
        "id": "nwvul9cElDus",
        "colab": {
          "base_uri": "https://localhost:8080/"
        },
        "outputId": "174f900a-7b9f-4b1f-a989-11201da127a0"
      },
      "source": [
        "# KNN testing r^2 score\n",
        "knn_tts.score(X_test, y_test)"
      ],
      "execution_count": null,
      "outputs": [
        {
          "output_type": "execute_result",
          "data": {
            "text/plain": [
              "0.4657519495032474"
            ]
          },
          "metadata": {
            "tags": []
          },
          "execution_count": 166
        }
      ]
    },
    {
      "cell_type": "markdown",
      "metadata": {
        "id": "tp5dvPkzpWkz"
      },
      "source": [
        "# **Linear Regression with train-test-split**"
      ]
    },
    {
      "cell_type": "code",
      "metadata": {
        "id": "39ZHxm-ulGYm"
      },
      "source": [
        "# Train-test-split\n",
        "X_train, X_test, y_train, y_test = train_test_split(X, y, test_size = .3, random_state=22)"
      ],
      "execution_count": null,
      "outputs": []
    },
    {
      "cell_type": "code",
      "metadata": {
        "id": "Reg7-XSSnvVM",
        "colab": {
          "base_uri": "https://localhost:8080/"
        },
        "outputId": "591f7668-faaa-484f-8f11-41879ac701f9"
      },
      "source": [
        "# Linear regression with train-test-split\n",
        "reg_tts = LinearRegression()\n",
        "reg_tts.fit(X_train, y_train)"
      ],
      "execution_count": null,
      "outputs": [
        {
          "output_type": "execute_result",
          "data": {
            "text/plain": [
              "LinearRegression(copy_X=True, fit_intercept=True, n_jobs=None, normalize=False)"
            ]
          },
          "metadata": {
            "tags": []
          },
          "execution_count": 316
        }
      ]
    },
    {
      "cell_type": "code",
      "metadata": {
        "id": "dFVSkLean1xS",
        "colab": {
          "base_uri": "https://localhost:8080/"
        },
        "outputId": "50a5112b-ca7d-45c1-f99c-02424e1ca3ac"
      },
      "source": [
        "# Linear regression training r^2 score\n",
        "reg_tts.score(X_train, y_train)"
      ],
      "execution_count": null,
      "outputs": [
        {
          "output_type": "execute_result",
          "data": {
            "text/plain": [
              "0.5689146079638765"
            ]
          },
          "metadata": {
            "tags": []
          },
          "execution_count": 317
        }
      ]
    },
    {
      "cell_type": "code",
      "metadata": {
        "id": "ur41pyCCn6ZG",
        "colab": {
          "base_uri": "https://localhost:8080/"
        },
        "outputId": "4caddd7a-2c43-45a1-9d95-f3dfb3930e47"
      },
      "source": [
        "# Linear regression testing r^2 score\n",
        "reg_tts.score(X_test, y_test)"
      ],
      "execution_count": null,
      "outputs": [
        {
          "output_type": "execute_result",
          "data": {
            "text/plain": [
              "0.5497249251596898"
            ]
          },
          "metadata": {
            "tags": []
          },
          "execution_count": 318
        }
      ]
    },
    {
      "cell_type": "markdown",
      "metadata": {
        "id": "sscQ4ofJpa1c"
      },
      "source": [
        "# **Bagged Trees**"
      ]
    },
    {
      "cell_type": "code",
      "metadata": {
        "id": "cdcsZVW0n-VO"
      },
      "source": [
        "# Train-test-split\n",
        "X_train, X_test, y_train, y_test = train_test_split(X, y, test_size = .3, random_state=22)"
      ],
      "execution_count": null,
      "outputs": []
    },
    {
      "cell_type": "code",
      "metadata": {
        "id": "HiAEosx4prOL",
        "colab": {
          "base_uri": "https://localhost:8080/"
        },
        "outputId": "6ea0319a-2bbe-4323-de47-cde2aa656db8"
      },
      "source": [
        "# Bagged trees regressor\n",
        "bt = BaggingRegressor(n_estimators=103, random_state=22)\n",
        "bt.fit(X_train, y_train)"
      ],
      "execution_count": null,
      "outputs": [
        {
          "output_type": "execute_result",
          "data": {
            "text/plain": [
              "BaggingRegressor(base_estimator=None, bootstrap=True, bootstrap_features=False,\n",
              "                 max_features=1.0, max_samples=1.0, n_estimators=103,\n",
              "                 n_jobs=None, oob_score=False, random_state=22, verbose=0,\n",
              "                 warm_start=False)"
            ]
          },
          "metadata": {
            "tags": []
          },
          "execution_count": 301
        }
      ]
    },
    {
      "cell_type": "code",
      "metadata": {
        "id": "PM6JkFFHpwNB",
        "colab": {
          "base_uri": "https://localhost:8080/"
        },
        "outputId": "8760858b-3de6-427c-b62a-a2315d82a5df"
      },
      "source": [
        "# Bagged trees regressor training r^2 score\n",
        "bt.score(X_train, y_train)"
      ],
      "execution_count": null,
      "outputs": [
        {
          "output_type": "execute_result",
          "data": {
            "text/plain": [
              "0.9382226382055393"
            ]
          },
          "metadata": {
            "tags": []
          },
          "execution_count": 302
        }
      ]
    },
    {
      "cell_type": "code",
      "metadata": {
        "id": "Xnm2eq7gpzjk",
        "colab": {
          "base_uri": "https://localhost:8080/"
        },
        "outputId": "bbc92d1d-cb7f-4202-81bb-562d02483082"
      },
      "source": [
        "# Bagged trees regressor testing r^2 score\n",
        "bt.score(X_test, y_test)"
      ],
      "execution_count": null,
      "outputs": [
        {
          "output_type": "execute_result",
          "data": {
            "text/plain": [
              "0.5353826781090645"
            ]
          },
          "metadata": {
            "tags": []
          },
          "execution_count": 303
        }
      ]
    },
    {
      "cell_type": "markdown",
      "metadata": {
        "id": "ug7UtkAGqFJS"
      },
      "source": [
        "# **Random Forest**"
      ]
    },
    {
      "cell_type": "code",
      "metadata": {
        "id": "dUXX8MWQp157"
      },
      "source": [
        "# Train-test-split\n",
        "X_train, X_test, y_train, y_test = train_test_split(X, y, test_size = .3, random_state=22)"
      ],
      "execution_count": null,
      "outputs": []
    },
    {
      "cell_type": "code",
      "metadata": {
        "id": "IuH3mvNyqJo4",
        "colab": {
          "base_uri": "https://localhost:8080/"
        },
        "outputId": "238a319c-747e-40a5-e167-a5701a09b550"
      },
      "source": [
        "# Random forest regressor\n",
        "rf = RandomForestRegressor(n_estimators=115, random_state=22)\n",
        "rf.fit(X_train, y_train)"
      ],
      "execution_count": null,
      "outputs": [
        {
          "output_type": "execute_result",
          "data": {
            "text/plain": [
              "RandomForestRegressor(bootstrap=True, ccp_alpha=0.0, criterion='mse',\n",
              "                      max_depth=None, max_features='auto', max_leaf_nodes=None,\n",
              "                      max_samples=None, min_impurity_decrease=0.0,\n",
              "                      min_impurity_split=None, min_samples_leaf=1,\n",
              "                      min_samples_split=2, min_weight_fraction_leaf=0.0,\n",
              "                      n_estimators=115, n_jobs=None, oob_score=False,\n",
              "                      random_state=22, verbose=0, warm_start=False)"
            ]
          },
          "metadata": {
            "tags": []
          },
          "execution_count": 250
        }
      ]
    },
    {
      "cell_type": "code",
      "metadata": {
        "id": "ci6Xj8SaqPi1",
        "colab": {
          "base_uri": "https://localhost:8080/"
        },
        "outputId": "a233a689-30ab-4153-d13a-c1832fc42b5c"
      },
      "source": [
        "# Random forest regressor training r^2 score\n",
        "rf.score(X_train, y_train)"
      ],
      "execution_count": null,
      "outputs": [
        {
          "output_type": "execute_result",
          "data": {
            "text/plain": [
              "0.9389963762954674"
            ]
          },
          "metadata": {
            "tags": []
          },
          "execution_count": 251
        }
      ]
    },
    {
      "cell_type": "code",
      "metadata": {
        "id": "_byn1ss3qTzf",
        "colab": {
          "base_uri": "https://localhost:8080/"
        },
        "outputId": "ffa58ae5-b25e-4491-ce4c-e0b747f0615a"
      },
      "source": [
        "# Random forest regressor testing r^2 score\n",
        "rf.score(X_test, y_test)"
      ],
      "execution_count": null,
      "outputs": [
        {
          "output_type": "execute_result",
          "data": {
            "text/plain": [
              "0.5344790169437481"
            ]
          },
          "metadata": {
            "tags": []
          },
          "execution_count": 252
        }
      ]
    },
    {
      "cell_type": "code",
      "metadata": {
        "id": "JjXQTGnwqWCb"
      },
      "source": [
        ""
      ],
      "execution_count": null,
      "outputs": []
    }
  ]
}